{
 "cells": [
  {
   "cell_type": "code",
   "execution_count": 5,
   "metadata": {},
   "outputs": [
    {
     "name": "stdout",
     "output_type": "stream",
     "text": [
      "Sun Sep 29 06:38:50 2024       \n",
      "+-----------------------------------------------------------------------------------------+\n",
      "| NVIDIA-SMI 550.90.07              Driver Version: 550.90.07      CUDA Version: 12.4     |\n",
      "|-----------------------------------------+------------------------+----------------------+\n",
      "| GPU  Name                 Persistence-M | Bus-Id          Disp.A | Volatile Uncorr. ECC |\n",
      "| Fan  Temp   Perf          Pwr:Usage/Cap |           Memory-Usage | GPU-Util  Compute M. |\n",
      "|                                         |                        |               MIG M. |\n",
      "|=========================================+========================+======================|\n",
      "|   0  Tesla V100-SXM3-32GB           Off |   00000000:05:00.0 Off |                    0 |\n",
      "| N/A   28C    P0             61W /  350W |       1MiB /  32768MiB |      0%      Default |\n",
      "|                                         |                        |                  N/A |\n",
      "+-----------------------------------------+------------------------+----------------------+\n",
      "                                                                                         \n",
      "+-----------------------------------------------------------------------------------------+\n",
      "| Processes:                                                                              |\n",
      "|  GPU   GI   CI        PID   Type   Process name                              GPU Memory |\n",
      "|        ID   ID                                                               Usage      |\n",
      "|=========================================================================================|\n",
      "|  No running processes found                                                             |\n",
      "+-----------------------------------------------------------------------------------------+\n"
     ]
    }
   ],
   "source": [
    "!nvidia-smi"
   ]
  },
  {
   "cell_type": "code",
   "execution_count": 6,
   "metadata": {},
   "outputs": [
    {
     "name": "stdout",
     "output_type": "stream",
     "text": [
      "Collecting git+https://github.com/huggingface/transformers.git\n",
      "  Cloning https://github.com/huggingface/transformers.git to /tmp/pip-req-build-0ihzu99o\n",
      "  Running command git clone --filter=blob:none --quiet https://github.com/huggingface/transformers.git /tmp/pip-req-build-0ihzu99o\n",
      "  Resolved https://github.com/huggingface/transformers.git to commit 2e24ee4dfa39cc0bc264b89edbccc373c8337086\n",
      "  Installing build dependencies ... \u001b[?25ldone\n",
      "\u001b[?25h  Getting requirements to build wheel ... \u001b[?25ldone\n",
      "\u001b[?25h  Preparing metadata (pyproject.toml) ... \u001b[?25ldone\n",
      "\u001b[?25hRequirement already satisfied: safetensors>=0.4.1 in ./environments/hack/lib/python3.10/site-packages (from transformers==4.46.0.dev0) (0.4.5)\n",
      "Requirement already satisfied: regex!=2019.12.17 in ./environments/hack/lib/python3.10/site-packages (from transformers==4.46.0.dev0) (2024.9.11)\n",
      "Requirement already satisfied: filelock in ./environments/hack/lib/python3.10/site-packages (from transformers==4.46.0.dev0) (3.16.1)\n",
      "Requirement already satisfied: packaging>=20.0 in ./environments/hack/lib/python3.10/site-packages (from transformers==4.46.0.dev0) (24.1)\n",
      "Requirement already satisfied: tqdm>=4.27 in ./environments/hack/lib/python3.10/site-packages (from transformers==4.46.0.dev0) (4.66.5)\n",
      "Requirement already satisfied: huggingface-hub<1.0,>=0.23.2 in ./environments/hack/lib/python3.10/site-packages (from transformers==4.46.0.dev0) (0.25.1)\n",
      "Requirement already satisfied: tokenizers<0.21,>=0.20 in ./environments/hack/lib/python3.10/site-packages (from transformers==4.46.0.dev0) (0.20.0)\n",
      "Requirement already satisfied: pyyaml>=5.1 in ./environments/hack/lib/python3.10/site-packages (from transformers==4.46.0.dev0) (6.0.2)\n",
      "Requirement already satisfied: requests in ./environments/hack/lib/python3.10/site-packages (from transformers==4.46.0.dev0) (2.32.3)\n",
      "Requirement already satisfied: numpy>=1.17 in ./environments/hack/lib/python3.10/site-packages (from transformers==4.46.0.dev0) (2.1.1)\n",
      "Requirement already satisfied: typing-extensions>=3.7.4.3 in ./environments/hack/lib/python3.10/site-packages (from huggingface-hub<1.0,>=0.23.2->transformers==4.46.0.dev0) (4.12.2)\n",
      "Requirement already satisfied: fsspec>=2023.5.0 in ./environments/hack/lib/python3.10/site-packages (from huggingface-hub<1.0,>=0.23.2->transformers==4.46.0.dev0) (2024.9.0)\n",
      "Requirement already satisfied: charset-normalizer<4,>=2 in ./environments/hack/lib/python3.10/site-packages (from requests->transformers==4.46.0.dev0) (3.3.2)\n",
      "Requirement already satisfied: urllib3<3,>=1.21.1 in ./environments/hack/lib/python3.10/site-packages (from requests->transformers==4.46.0.dev0) (2.2.3)\n",
      "Requirement already satisfied: idna<4,>=2.5 in ./environments/hack/lib/python3.10/site-packages (from requests->transformers==4.46.0.dev0) (3.10)\n",
      "Requirement already satisfied: certifi>=2017.4.17 in ./environments/hack/lib/python3.10/site-packages (from requests->transformers==4.46.0.dev0) (2024.8.30)\n"
     ]
    }
   ],
   "source": [
    "!pip install --upgrade -q accelerate bitsandbytes\n",
    "!pip install git+https://github.com/huggingface/transformers.git"
   ]
  },
  {
   "cell_type": "code",
   "execution_count": 7,
   "metadata": {},
   "outputs": [],
   "source": [
    "from transformers import LlavaNextVideoForConditionalGeneration, LlavaNextVideoProcessor,AutoTokenizer\n",
    "import torch"
   ]
  },
  {
   "cell_type": "code",
   "execution_count": 8,
   "metadata": {},
   "outputs": [],
   "source": [
    "from matplotlib import pyplot as plt\n",
    "from matplotlib import animation\n",
    "from io import BytesIO\n",
    "import base64\n",
    "import pandas as pd\n",
    "import av\n",
    "import numpy as np\n",
    "import os"
   ]
  },
  {
   "cell_type": "code",
   "execution_count": 9,
   "metadata": {},
   "outputs": [
    {
     "data": {
      "application/vnd.jupyter.widget-view+json": {
       "model_id": "a09ead69de0645f098d25e47dbce742c",
       "version_major": 2,
       "version_minor": 0
      },
      "text/plain": [
       "Loading checkpoint shards:   0%|          | 0/3 [00:00<?, ?it/s]"
      ]
     },
     "metadata": {},
     "output_type": "display_data"
    },
    {
     "data": {
      "text/plain": [
       "LlavaNextVideoForConditionalGeneration(\n",
       "  (vision_tower): CLIPVisionModel(\n",
       "    (vision_model): CLIPVisionTransformer(\n",
       "      (embeddings): CLIPVisionEmbeddings(\n",
       "        (patch_embedding): Conv2d(3, 1024, kernel_size=(14, 14), stride=(14, 14), bias=False)\n",
       "        (position_embedding): Embedding(577, 1024)\n",
       "      )\n",
       "      (pre_layrnorm): LayerNorm((1024,), eps=1e-05, elementwise_affine=True)\n",
       "      (encoder): CLIPEncoder(\n",
       "        (layers): ModuleList(\n",
       "          (0-23): 24 x CLIPEncoderLayer(\n",
       "            (self_attn): CLIPSdpaAttention(\n",
       "              (k_proj): Linear(in_features=1024, out_features=1024, bias=True)\n",
       "              (v_proj): Linear(in_features=1024, out_features=1024, bias=True)\n",
       "              (q_proj): Linear(in_features=1024, out_features=1024, bias=True)\n",
       "              (out_proj): Linear(in_features=1024, out_features=1024, bias=True)\n",
       "            )\n",
       "            (layer_norm1): LayerNorm((1024,), eps=1e-05, elementwise_affine=True)\n",
       "            (mlp): CLIPMLP(\n",
       "              (activation_fn): QuickGELUActivation()\n",
       "              (fc1): Linear(in_features=1024, out_features=4096, bias=True)\n",
       "              (fc2): Linear(in_features=4096, out_features=1024, bias=True)\n",
       "            )\n",
       "            (layer_norm2): LayerNorm((1024,), eps=1e-05, elementwise_affine=True)\n",
       "          )\n",
       "        )\n",
       "      )\n",
       "      (post_layernorm): LayerNorm((1024,), eps=1e-05, elementwise_affine=True)\n",
       "    )\n",
       "  )\n",
       "  (multi_modal_projector): LlavaNextVideoMultiModalProjector(\n",
       "    (linear_1): Linear(in_features=1024, out_features=4096, bias=True)\n",
       "    (act): GELUActivation()\n",
       "    (linear_2): Linear(in_features=4096, out_features=4096, bias=True)\n",
       "  )\n",
       "  (language_model): LlamaForCausalLM(\n",
       "    (model): LlamaModel(\n",
       "      (embed_tokens): Embedding(32064, 4096, padding_idx=0)\n",
       "      (layers): ModuleList(\n",
       "        (0-31): 32 x LlamaDecoderLayer(\n",
       "          (self_attn): LlamaSdpaAttention(\n",
       "            (q_proj): Linear(in_features=4096, out_features=4096, bias=False)\n",
       "            (k_proj): Linear(in_features=4096, out_features=4096, bias=False)\n",
       "            (v_proj): Linear(in_features=4096, out_features=4096, bias=False)\n",
       "            (o_proj): Linear(in_features=4096, out_features=4096, bias=False)\n",
       "            (rotary_emb): LlamaRotaryEmbedding()\n",
       "          )\n",
       "          (mlp): LlamaMLP(\n",
       "            (gate_proj): Linear(in_features=4096, out_features=11008, bias=False)\n",
       "            (up_proj): Linear(in_features=4096, out_features=11008, bias=False)\n",
       "            (down_proj): Linear(in_features=11008, out_features=4096, bias=False)\n",
       "            (act_fn): SiLU()\n",
       "          )\n",
       "          (input_layernorm): LlamaRMSNorm((4096,), eps=1e-05)\n",
       "          (post_attention_layernorm): LlamaRMSNorm((4096,), eps=1e-05)\n",
       "        )\n",
       "      )\n",
       "      (norm): LlamaRMSNorm((4096,), eps=1e-05)\n",
       "      (rotary_emb): LlamaRotaryEmbedding()\n",
       "    )\n",
       "    (lm_head): Linear(in_features=4096, out_features=32064, bias=False)\n",
       "  )\n",
       "  (vision_resampler): LlavaNextVideoPooler(\n",
       "    (pool): AvgPool2d(kernel_size=2, stride=2, padding=0)\n",
       "  )\n",
       ")"
      ]
     },
     "execution_count": 9,
     "metadata": {},
     "output_type": "execute_result"
    }
   ],
   "source": [
    "device = torch.device(\"cuda\" if torch.cuda.is_available() else \"cpu\")\n",
    "\n",
    "processor = LlavaNextVideoProcessor.from_pretrained(\"llava-hf/LLaVA-NeXT-Video-7B-hf\")\n",
    "\n",
    "model = LlavaNextVideoForConditionalGeneration.from_pretrained(\n",
    "    \"llava-hf/LLaVA-NeXT-Video-7B-hf\",\n",
    ")\n",
    "\n",
    "model.to(device)"
   ]
  },
  {
   "cell_type": "code",
   "execution_count": 10,
   "metadata": {},
   "outputs": [
    {
     "data": {
      "text/html": [
       "<div>\n",
       "<style scoped>\n",
       "    .dataframe tbody tr th:only-of-type {\n",
       "        vertical-align: middle;\n",
       "    }\n",
       "\n",
       "    .dataframe tbody tr th {\n",
       "        vertical-align: top;\n",
       "    }\n",
       "\n",
       "    .dataframe thead th {\n",
       "        text-align: right;\n",
       "    }\n",
       "</style>\n",
       "<table border=\"1\" class=\"dataframe\">\n",
       "  <thead>\n",
       "    <tr style=\"text-align: right;\">\n",
       "      <th></th>\n",
       "      <th>video_id</th>\n",
       "      <th>title</th>\n",
       "      <th>description</th>\n",
       "      <th>tags</th>\n",
       "    </tr>\n",
       "  </thead>\n",
       "  <tbody>\n",
       "    <tr>\n",
       "      <th>0</th>\n",
       "      <td>9007f33c8347924ffa12f922da2a179d</td>\n",
       "      <td>Пацанский клининг. Шоу «ЧистоТачка» | Повелите...</td>\n",
       "      <td>Тяпа и Егор бросили вызов нестареющему «повели...</td>\n",
       "      <td>Массовая культура: Юмор и сатира</td>\n",
       "    </tr>\n",
       "    <tr>\n",
       "      <th>1</th>\n",
       "      <td>9012707c45233bd601dead57bc9e2eca</td>\n",
       "      <td>СarJitsu. 3 сезон, 6 серия. Нарек Симонян vs Ж...</td>\n",
       "      <td>CarJitsu — бои в формате POP MMA, где вместо р...</td>\n",
       "      <td>События и достопримечательности:  Спортивные с...</td>\n",
       "    </tr>\n",
       "    <tr>\n",
       "      <th>2</th>\n",
       "      <td>e01d6ebabbc27e323fa1b7c581e9b96a</td>\n",
       "      <td>Злые языки | Выпуск 1, Сезон 1 | Непорочность ...</td>\n",
       "      <td>Почему Дана Борисова предпочитает молчать о по...</td>\n",
       "      <td>Массовая культура: Отношения знаменитостей, Ма...</td>\n",
       "    </tr>\n",
       "    <tr>\n",
       "      <th>3</th>\n",
       "      <td>a00b145242be3ebc3b311455e94917af</td>\n",
       "      <td>$1000 шоу | 1 выпуск | Автобоулинг</td>\n",
       "      <td>В этом выпуске, популярный автоблогер Дима Гор...</td>\n",
       "      <td>Транспорт, Спорт: Автогонки, Массовая культура</td>\n",
       "    </tr>\n",
       "    <tr>\n",
       "      <th>4</th>\n",
       "      <td>b01a682bf4dfcc09f1e8fac5bc18785a</td>\n",
       "      <td>В РОТ МНЕ НОТЫ #1 ВИТА ЧИКОВАНИ</td>\n",
       "      <td>В первом выпуске «В рот мне ноты» популярная п...</td>\n",
       "      <td>Массовая культура: Юмор и сатира</td>\n",
       "    </tr>\n",
       "  </tbody>\n",
       "</table>\n",
       "</div>"
      ],
      "text/plain": [
       "                           video_id  \\\n",
       "0  9007f33c8347924ffa12f922da2a179d   \n",
       "1  9012707c45233bd601dead57bc9e2eca   \n",
       "2  e01d6ebabbc27e323fa1b7c581e9b96a   \n",
       "3  a00b145242be3ebc3b311455e94917af   \n",
       "4  b01a682bf4dfcc09f1e8fac5bc18785a   \n",
       "\n",
       "                                               title  \\\n",
       "0  Пацанский клининг. Шоу «ЧистоТачка» | Повелите...   \n",
       "1  СarJitsu. 3 сезон, 6 серия. Нарек Симонян vs Ж...   \n",
       "2  Злые языки | Выпуск 1, Сезон 1 | Непорочность ...   \n",
       "3                 $1000 шоу | 1 выпуск | Автобоулинг   \n",
       "4                    В РОТ МНЕ НОТЫ #1 ВИТА ЧИКОВАНИ   \n",
       "\n",
       "                                         description  \\\n",
       "0  Тяпа и Егор бросили вызов нестареющему «повели...   \n",
       "1  CarJitsu — бои в формате POP MMA, где вместо р...   \n",
       "2  Почему Дана Борисова предпочитает молчать о по...   \n",
       "3  В этом выпуске, популярный автоблогер Дима Гор...   \n",
       "4  В первом выпуске «В рот мне ноты» популярная п...   \n",
       "\n",
       "                                                tags  \n",
       "0                   Массовая культура: Юмор и сатира  \n",
       "1  События и достопримечательности:  Спортивные с...  \n",
       "2  Массовая культура: Отношения знаменитостей, Ма...  \n",
       "3     Транспорт, Спорт: Автогонки, Массовая культура  \n",
       "4                   Массовая культура: Юмор и сатира  "
      ]
     },
     "execution_count": 10,
     "metadata": {},
     "output_type": "execute_result"
    }
   ],
   "source": [
    "data=pd.read_csv('dataset/baseline/train_data_categories.csv')\n",
    "data.head()                 "
   ]
  },
  {
   "cell_type": "code",
   "execution_count": 11,
   "metadata": {},
   "outputs": [
    {
     "data": {
      "text/plain": [
       "(1049, 4)"
      ]
     },
     "execution_count": 11,
     "metadata": {},
     "output_type": "execute_result"
    }
   ],
   "source": [
    "data.shape"
   ]
  },
  {
   "cell_type": "code",
   "execution_count": 12,
   "metadata": {},
   "outputs": [],
   "source": [
    "import numpy as np\n",
    "def read_video_pyav(container, indices):\n",
    "    '''\n",
    "    Decode the video with PyAV decoder.\n",
    "\n",
    "    Args:\n",
    "        container (av.container.input.InputContainer): PyAV container.\n",
    "        indices (List[int]): List of frame indices to decode.\n",
    "\n",
    "    Returns:\n",
    "        np.ndarray: np array of decoded frames of shape (num_frames, height, width, 3).\n",
    "    '''\n",
    "    frames = []\n",
    "    container.seek(0)\n",
    "    start_index = indices[0]\n",
    "    end_index = indices[-1]\n",
    "    for i, frame in enumerate(container.decode(video=0)):\n",
    "        if i > end_index:\n",
    "            break\n",
    "        if i >= start_index and i in indices:\n",
    "            frames.append(frame)\n",
    "    return np.stack([x.to_ndarray(format=\"rgb24\") for x in frames])    "
   ]
  },
  {
   "cell_type": "code",
   "execution_count": 13,
   "metadata": {},
   "outputs": [],
   "source": [
    "from huggingface_hub import hf_hub_download\n",
    "\n",
    "# Download video from the hub\n",
    "video_path_1 = hf_hub_download(repo_id=\"raushan-testing-hf/videos-test\", filename=\"sample_demo_1.mp4\", repo_type=\"dataset\")\n",
    "\n",
    "container = av.open(video_path_1)\n",
    "\n",
    "# sample uniformly 8 frames from the video (we can sample more for longer videos)\n",
    "total_frames = container.streams.video[0].frames\n",
    "indices = np.arange(0, total_frames, total_frames / 8).astype(int)\n",
    "clip_baby = read_video_pyav(container, indices)"
   ]
  },
  {
   "cell_type": "code",
   "execution_count": 14,
   "metadata": {},
   "outputs": [],
   "source": [
    "iab_tags = pd.read_csv('dataset/baseline/IAB_tags.csv')\n",
    "# Формируем список категорий с учетом иерархической структуры\n",
    "categories = []\n",
    "for i, row in iab_tags.iterrows():\n",
    "    # Уровень 1 (родительская категория)\n",
    "    if not pd.isna(row['Уровень 1 (iab)']):\n",
    "        categories.append(row['Уровень 1 (iab)'])\n",
    "    # Уровень 2 (подкатегория Уровня 1)\n",
    "    if not pd.isna(row['Уровень 2 (iab)']):\n",
    "        categories.append('{} > {}'.format(row['Уровень 1 (iab)'], row['Уровень 2 (iab)']))\n",
    "    # Уровень 3 (подкатегория Уровня 2)\n",
    "    if not pd.isna(row['Уровень 3 (iab)']):\n",
    "        categories.append('{} > {} > {}'.format(row['Уровень 1 (iab)'], row['Уровень 2 (iab)'], row['Уровень 3 (iab)']))\n",
    "categories_str = ', '.join(categories)        "
   ]
  },
  {
   "cell_type": "code",
   "execution_count": 15,
   "metadata": {},
   "outputs": [
    {
     "data": {
      "text/plain": [
       "44559"
      ]
     },
     "execution_count": 15,
     "metadata": {},
     "output_type": "execute_result"
    }
   ],
   "source": [
    "len(categories_str)"
   ]
  },
  {
   "cell_type": "code",
   "execution_count": 16,
   "metadata": {},
   "outputs": [
    {
     "name": "stdin",
     "output_type": "stream",
     "text": [
      "Введите название видео:  Ребенок\n",
      "Введите описание видео:   Ребенок читает книгу на кровати\n"
     ]
    }
   ],
   "source": [
    "# Each \"content\" is a list of dicts and you can add image/video/text modalities\n",
    "video_title = input(\"Введите название видео: \")\n",
    "video_description = input(\"Введите описание видео:  \")\n",
    "\n",
    "import random\n",
    "\n",
    "\n",
    "# Преобразовать строку в список\n",
    "categories_list = categories_str.split(', ')\n",
    "\n",
    "# Сделать shuffle списка\n",
    "random.shuffle(categories_list)\n",
    "\n",
    "# Преобразовать список обратно в строку\n",
    "categories_str = ', '.join(categories_list)\n",
    "conversation = [\n",
    "      {\n",
    "          \"role\": \"user\",\n",
    "          \"content\": [\n",
    "              {\"type\": \"text\", \"text\": f\"К какой категории относится данное видео? из списка:{categories_str[2048:4096]}\"},\n",
    "              {\"type\": \"video\", \"title\": video_title, \"description\": video_description},\n",
    "              ],\n",
    "      },\n",
    "]\n",
    "examples = [\n",
    "    {\n",
    "        \"role\": \"user\",\n",
    "        \"content\": [\n",
    "            {\"type\": \"text\", \"text\": \"Определите, к какой из следующих категорий относится это видео: Транспорт, Спорт, Технологии. Ответьте одним или несколькими словами. Если видео не относится ни к одной из категорий, укажите предполагаемую категорию. Категории и их подгруппы должны браться только из предоставленного списка.\"},\n",
    "            {\"type\": \"video\", \"title\": \"Обзор нового автомобиля\", \"description\": \"Обзор нового автомобиля от компании XYZ.\"},\n",
    "        ],\n",
    "    },\n",
    "    {\n",
    "        \"role\": \"assistant\",\n",
    "        \"content\": [\n",
    "            {\"type\": \"text\", \"text\": \"Транспорт > Типы кузова автомобиля > Седан\"},\n",
    "        ],\n",
    "    },\n",
    "    {\n",
    "        \"role\": \"user\",\n",
    "        \"content\": [\n",
    "            {\"type\": \"text\", \"text\": \"Определите, к какой из следующих категорий относится это видео: Транспорт, Спорт, Технологии. Ответьте одним или несколькими словами. Если видео не относится ни к одной из категорий, укажите предполагаемую категорию. Категории и их подгруппы должны браться только из предоставленного списка.\"},\n",
    "            {\"type\": \"video\", \"title\": \"Как играть в футбол\", \"description\": \"Уроки по игре в футбол для начинающих.\"},\n",
    "        ],\n",
    "    },\n",
    "    {\n",
    "        \"role\": \"assistant\",\n",
    "        \"content\": [\n",
    "            {\"type\": \"text\", \"text\": \"Спорт > Футбол\"},\n",
    "        ],\n",
    "    },\n",
    "    {\n",
    "        \"role\": \"user\",\n",
    "        \"content\": [\n",
    "            {\"type\": \"text\", \"text\": \"Определите, к какой из следующих категорий относится это видео: Транспорт, Спорт, Технологии. Ответьте одним или несколькими словами. Если видео не относится ни к одной из категорий, укажите предполагаемую категорию. Категории и их подгруппы должны браться только из предоставленного списка.\"},\n",
    "            {\"type\": \"video\", \"title\": \"Поверь мне, подруга I #10 I Как стать популярной в школе\", \"description\": \"Поговорим о том, как вести себя в новой школе.\"},\n",
    "        ],\n",
    "    },\n",
    "    {\n",
    "        \"role\": \"assistant\",\n",
    "        \"content\": [\n",
    "            {\"type\": \"text\", \"text\": \"Хобби и интересы\"},\n",
    "        ],\n",
    "    },\n",
    "]"
   ]
  },
  {
   "cell_type": "code",
   "execution_count": 17,
   "metadata": {},
   "outputs": [],
   "source": [
    "prompt = processor.apply_chat_template(conversation, add_generation_prompt=True)"
   ]
  },
  {
   "cell_type": "code",
   "execution_count": 18,
   "metadata": {},
   "outputs": [
    {
     "data": {
      "text/plain": [
       "'USER: <video>\\nК какой категории относится данное видео? из списка:цина > Медицинские направления, Массовая культура, Спорт > Велоспорт, Бизнес и финансы, Фильмы и анимация, Религия и духовность, Карьера, Фильмы и анимация > Семейные и детские фильмы, Личные финансы > Инвестиции, Здоровый образ жизни > Методики оздоровления > Физиотерапия, Бизнес и финансы, Еда и напитки > Десерты и выпечка, Медицина > Медицинские направления > Диабет, Спорт > Баскетбол, Транспорт > Типы автомобилей > Подержанные автомобили, Музыка и аудио, Личные финансы > Инвестиции, Образование, Семья и отношения > Воспитание детей > Воспитание детей с особыми потребностями, Семья и отношения > Воспитание детей > Воспитание малышей, События и достопримечательности > Театральные мероприятия, Религия и духовность > Ислам, Спорт > Автогонки, Информационные технологии > Робототехника, Книги и литература > Кулинарные книги, События и достопримечательности, Карьера > Поиск работы > Ярмарки вакансий, Недвижимость > Промышленная недвижимость, Личные финансы, Хобби и интересы > Игры и головоломки, Бизнес и финансы > Промышленность и сфера услуг > Гостиничный бизнес, Личные финансы > Страхование > Страхование путешествий, Стиль и красота > Мужская мода, Образование > Частные школы, Стиль и красота, Дом и сад > Ремонт, Транспорт > Типы кузова автомобиля > Внедорожник, Информационные технологии > Компьютеры и цифровые технологии, Хобби и интересы, Личные финансы > Страхование, Новости и политика > Политика > Политические проблемы, Транспорт > Типы кузова автомобиля, Стиль и красота > Дизайнерская одежда, Хобби и интересы > Декоративно-прикладное искусство > Скрапбукинг, Спорт, Здоровый образ жизни, Личные финансы, Животные, Личные финансы > Финансовая помощь, События и достопримечательности, Фильмы и анимация, Бизнес и финансы > Бизнес, Хобби и интересы > Декоративно-прикладное искусство, Спорт > Олимпийские виды спорта, Транспорт > Прокат автомобилей, Хобби и интересы, Массовая культура > Стиль знаменитостей, Информационные технологии, Игры > Жанры видеоигр > Приключенческие видеоигры, Образование, Телевидение > Тематич ASSISTANT:'"
      ]
     },
     "execution_count": 18,
     "metadata": {},
     "output_type": "execute_result"
    }
   ],
   "source": [
    "prompt"
   ]
  },
  {
   "cell_type": "code",
   "execution_count": 19,
   "metadata": {},
   "outputs": [
    {
     "name": "stderr",
     "output_type": "stream",
     "text": [
      "Expanding inputs for image/video tokens in LLaVa-NeXT-Video should be done in processing. Please add `patch_size` and `vision_feature_select_strategy` to the model's processing config or set directly with `processor.patch_size = {{patch_size}}` and processor.vision_feature_select_strategy = {{vision_feature_select_strategy}}`. Using processors without these attributes in the config is deprecated and will throw an error in v4.47.\n"
     ]
    }
   ],
   "source": [
    "# we still need to call the processor to tokenize the prompt and get pixel_values for videos\n",
    "inputs = processor([prompt], videos=[clip_baby], padding=True, return_tensors=\"pt\").to(model.device)"
   ]
  },
  {
   "cell_type": "code",
   "execution_count": 20,
   "metadata": {},
   "outputs": [
    {
     "name": "stderr",
     "output_type": "stream",
     "text": [
      "Expanding inputs for image.video tokens in LLaVa-NeXT-Video should be done in processing. Please add `patch_size` and `vision_feature_select_strategy` to the model's processing config or set directly with `processor.patch_size = {{patch_size}}` and processor.vision_feature_select_strategy = {{vision_feature_select_strategy}}`. Using processors without these attributes in the config is deprecated and will throw an error in v4.47.\n",
      "Starting from v4.46, the `logits` model output will have the same type as the model (except at train time, where it will always be FP32)\n"
     ]
    }
   ],
   "source": [
    "generate_kwargs = {\"max_new_tokens\": 50, \"do_sample\": True, \"top_p\": 0.95}\n",
    "\n",
    "output = model.generate(**inputs, **generate_kwargs)\n",
    "generated_text = processor.batch_decode(output, skip_special_tokens=True)"
   ]
  },
  {
   "cell_type": "code",
   "execution_count": 35,
   "metadata": {},
   "outputs": [
    {
     "name": "stdout",
     "output_type": "stream",
     "text": [
      "['USER: \\nК какой категории относится данное видео? из списка:цина > Медицинские направления, Массовая культура, Спорт > Велоспорт, Бизнес и финансы, Фильмы и анимация, Религия и духовность, Карьера, Фильмы и анимация > Семейные и детские фильмы, Личные финансы > Инвестиции, Здоровый образ жизни > Методики оздоровления > Физиотерапия, Бизнес и финансы, Еда и напитки > Десерты и выпечка, Медицина > Медицинские направления > Диабет, Спорт > Баскетбол, Транспорт > Типы автомобилей > Подержанные автомобили, Музыка и аудио, Личные финансы > Инвестиции, Образование, Семья и отношения > Воспитание детей > Воспитание детей с особыми потребностями, Семья и отношения > Воспитание детей > Воспитание малышей, События и достопримечательности > Театральные мероприятия, Религия и духовность > Ислам, Спорт > Автогонки, Информационные технологии > Робототехника, Книги и литература > Кулинарные книги, События и достопримечательности, Карьера > Поиск работы > Ярмарки вакансий, Недвижимость > Промышленная недвижимость, Личные финансы, Хобби и интересы > Игры и головоломки, Бизнес и финансы > Промышленность и сфера услуг > Гостиничный бизнес, Личные финансы > Страхование > Страхование путешествий, Стиль и красота > Мужская мода, Образование > Частные школы, Стиль и красота, Дом и сад > Ремонт, Транспорт > Типы кузова автомобиля > Внедорожник, Информационные технологии > Компьютеры и цифровые технологии, Хобби и интересы, Личные финансы > Страхование, Новости и политика > Политика > Политические проблемы, Транспорт > Типы кузова автомобиля, Стиль и красота > Дизайнерская одежда, Хобби и интересы > Декоративно-прикладное искусство > Скрапбукинг, Спорт, Здоровый образ жизни, Личные финансы, Животные, Личные финансы > Финансовая помощь, События и достопримечательности, Фильмы и анимация, Бизнес и финансы > Бизнес, Хобби и интересы > Декоративно-прикладное искусство, Спорт > Олимпийские виды спорта, Транспорт > Прокат автомобилей, Хобби и интересы, Массовая культура > Стиль знаменитостей, Информационные технологии, Игры > Жанры видеоигр > Приключенческие видеоигры, Образование, Телевидение > Тематич ASSISTANT: Это видео принадлежит категории \"Семья и отношения > Воспитание детей > Воспитание малышей\".']\n"
     ]
    }
   ],
   "source": [
    "print(generated_text)"
   ]
  },
  {
   "cell_type": "code",
   "execution_count": 36,
   "metadata": {},
   "outputs": [
    {
     "name": "stdout",
     "output_type": "stream",
     "text": [
      "Это видео принадлежит категории \"Семья и отношения > Воспитание детей > Воспитание малышей\".\n"
     ]
    }
   ],
   "source": [
    "for text in generated_text:\n",
    "    if \"ASSISTANT:\" in text:\n",
    "        print(text.split(\"ASSISTANT:\")[1].strip())"
   ]
  }
 ],
 "metadata": {
  "kernelspec": {
   "display_name": "Python 3 (ipykernel)",
   "language": "python",
   "name": "python3"
  },
  "language_info": {
   "codemirror_mode": {
    "name": "ipython",
    "version": 3
   },
   "file_extension": ".py",
   "mimetype": "text/x-python",
   "name": "python",
   "nbconvert_exporter": "python",
   "pygments_lexer": "ipython3",
   "version": "3.10.12"
  }
 },
 "nbformat": 4,
 "nbformat_minor": 4
}
